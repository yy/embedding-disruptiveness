{
 "cells": [
  {
   "cell_type": "code",
   "execution_count": 1,
   "id": "ecdb2c62-3c35-4215-970c-c387e0ed32b3",
   "metadata": {},
   "outputs": [],
   "source": [
    "# install.packages(\"logistf\")"
   ]
  },
  {
   "cell_type": "code",
   "execution_count": 12,
   "id": "7125e04b-ff28-4c53-a357-3b42fa31f69e",
   "metadata": {},
   "outputs": [],
   "source": [
    "library(logistf)"
   ]
  },
  {
   "cell_type": "code",
   "execution_count": 13,
   "id": "86a4469c-fb27-459b-8990-9183c1d48388",
   "metadata": {},
   "outputs": [
    {
     "data": {
      "text/plain": [
       "               _                           \n",
       "platform       x86_64-pc-linux-gnu         \n",
       "arch           x86_64                      \n",
       "os             linux-gnu                   \n",
       "system         x86_64, linux-gnu           \n",
       "status                                     \n",
       "major          3                           \n",
       "minor          6.3                         \n",
       "year           2020                        \n",
       "month          02                          \n",
       "day            29                          \n",
       "svn rev        77875                       \n",
       "language       R                           \n",
       "version.string R version 3.6.3 (2020-02-29)\n",
       "nickname       Holding the Windsock        "
      ]
     },
     "metadata": {},
     "output_type": "display_data"
    }
   ],
   "source": [
    "R.version"
   ]
  },
  {
   "cell_type": "markdown",
   "id": "82de3a57-39ba-49e1-81fd-29b70d11f5fe",
   "metadata": {},
   "source": [
    "# WOS"
   ]
  },
  {
   "cell_type": "code",
   "execution_count": 3,
   "id": "dacf039a-fcfc-4e34-bac4-2a66c100321b",
   "metadata": {},
   "outputs": [],
   "source": [
    "data <- read.csv('../data/derived/Nobel_papers_df_regression.csv')"
   ]
  },
  {
   "cell_type": "code",
   "execution_count": 6,
   "id": "52c6c919-6c9c-4abf-abac-aeb039fedcab",
   "metadata": {},
   "outputs": [],
   "source": [
    "data <- data[!is.na(data[, c(\"citations\")]) & !is.nan(data[, c(\"citations\")]) & !is.infinite(data[, c(\"citations\")]),]\n",
    "data$citations <- as.numeric(gsub(\"\\\\.\", \"\", data$citations))"
   ]
  },
  {
   "cell_type": "code",
   "execution_count": 7,
   "id": "c9e84c2c-7010-4226-99a0-1aa3ad538d6f",
   "metadata": {},
   "outputs": [],
   "source": [
    "data$PCNT_RANK_original_1960_2019_disruption<- data$PCNT_RANK_original_1960_2019_disruption*10"
   ]
  },
  {
   "cell_type": "code",
   "execution_count": 8,
   "id": "3d3f8172-53cb-4662-aad1-2346e9aecc2d",
   "metadata": {},
   "outputs": [],
   "source": [
    "data$PCNT_RANK_original_1960_2019_100_5_q_1_ep_1_bs_65536_embedding_distance <- data$PCNT_RANK_original_1960_2019_100_5_q_1_ep_1_bs_65536_embedding_distance*10\n"
   ]
  },
  {
   "cell_type": "markdown",
   "id": "8ba1fd60-da34-4707-90e2-59d371371aa5",
   "metadata": {},
   "source": [
    "### Nobel ~ w_5_d_100 EDM + D + log(citations)"
   ]
  },
  {
   "cell_type": "code",
   "execution_count": 9,
   "id": "9e690437-0281-4cfd-9eb3-a0bf58e305ca",
   "metadata": {},
   "outputs": [],
   "source": [
    "fit <- logistf(nobel ~  PCNT_RANK_original_1960_2019_disruption+PCNT_RANK_original_1960_2019_100_5_q_1_ep_1_bs_65536_embedding_distance+log(citations) ,data = data)"
   ]
  },
  {
   "cell_type": "code",
   "execution_count": 10,
   "id": "0b963d46-098e-448e-875b-68152c616666",
   "metadata": {},
   "outputs": [
    {
     "name": "stdout",
     "output_type": "stream",
     "text": [
      "logistf(formula = nobel ~ PCNT_RANK_original_1960_2019_disruption + \n",
      "    PCNT_RANK_original_1960_2019_100_5_q_1_ep_1_bs_65536_embedding_distance + \n",
      "    log(citations), data = data)\n",
      "\n",
      "Model fitted by Penalized ML\n",
      "Coefficients:\n",
      "                                                                                 coef\n",
      "(Intercept)                                                             -21.058826298\n",
      "PCNT_RANK_original_1960_2019_disruption                                  -0.008253502\n",
      "PCNT_RANK_original_1960_2019_100_5_q_1_ep_1_bs_65536_embedding_distance   0.306281595\n",
      "log(citations)                                                            1.715724270\n",
      "                                                                          se(coef)\n",
      "(Intercept)                                                             0.30281447\n",
      "PCNT_RANK_original_1960_2019_disruption                                 0.01665828\n",
      "PCNT_RANK_original_1960_2019_100_5_q_1_ep_1_bs_65536_embedding_distance 0.03670459\n",
      "log(citations)                                                          0.03472337\n",
      "                                                                          lower 0.95\n",
      "(Intercept)                                                             -21.67332185\n",
      "PCNT_RANK_original_1960_2019_disruption                                  -0.04065474\n",
      "PCNT_RANK_original_1960_2019_100_5_q_1_ep_1_bs_65536_embedding_distance   0.23622603\n",
      "log(citations)                                                            1.64811938\n",
      "                                                                         upper 0.95\n",
      "(Intercept)                                                             -20.4819900\n",
      "PCNT_RANK_original_1960_2019_disruption                                   0.0248335\n",
      "PCNT_RANK_original_1960_2019_100_5_q_1_ep_1_bs_65536_embedding_distance   0.3807744\n",
      "log(citations)                                                            1.7846232\n",
      "                                                                           Chisq\n",
      "(Intercept)                                                                  Inf\n",
      "PCNT_RANK_original_1960_2019_disruption                                 0.243148\n",
      "PCNT_RANK_original_1960_2019_100_5_q_1_ep_1_bs_65536_embedding_distance      Inf\n",
      "log(citations)                                                               Inf\n",
      "                                                                                p\n",
      "(Intercept)                                                             0.0000000\n",
      "PCNT_RANK_original_1960_2019_disruption                                 0.6219417\n",
      "PCNT_RANK_original_1960_2019_100_5_q_1_ep_1_bs_65536_embedding_distance 0.0000000\n",
      "log(citations)                                                          0.0000000\n",
      "                                                                        method\n",
      "(Intercept)                                                                  2\n",
      "PCNT_RANK_original_1960_2019_disruption                                      2\n",
      "PCNT_RANK_original_1960_2019_100_5_q_1_ep_1_bs_65536_embedding_distance      2\n",
      "log(citations)                                                               2\n",
      "\n",
      "Method: 1-Wald, 2-Profile penalized log-likelihood, 3-None\n",
      "\n",
      "Likelihood ratio test=2948.355 on 3 df, p=0, n=23664187\n",
      "Wald test = 16373.93 on 3 df, p = 0"
     ]
    }
   ],
   "source": [
    "summary(fit) "
   ]
  },
  {
   "cell_type": "code",
   "execution_count": null,
   "id": "5235e361-d4f4-4dd0-8357-a3a53a34d74e",
   "metadata": {},
   "outputs": [],
   "source": []
  },
  {
   "cell_type": "code",
   "execution_count": null,
   "id": "a9e7acd0-b207-411b-8a7a-8f584665b959",
   "metadata": {},
   "outputs": [],
   "source": []
  },
  {
   "cell_type": "code",
   "execution_count": null,
   "id": "03656ec8-3bea-4229-9d07-a7c6cb6af567",
   "metadata": {},
   "outputs": [],
   "source": []
  },
  {
   "cell_type": "markdown",
   "id": "9d978629-5d67-43d0-93e0-abd83976c192",
   "metadata": {},
   "source": [
    "## APS"
   ]
  },
  {
   "cell_type": "code",
   "execution_count": 1,
   "id": "be2f987e-6643-4895-9762-20df759fd59e",
   "metadata": {},
   "outputs": [],
   "source": [
    "data <- read.csv('../data/derived/papers_milestone_regression.csv')"
   ]
  },
  {
   "cell_type": "code",
   "execution_count": 2,
   "id": "170a267f-be09-4eba-82c2-682f0fe58906",
   "metadata": {},
   "outputs": [],
   "source": [
    "data <- data[!is.na(data[, c(\"citations\")]) & !is.nan(data[, c(\"citations\")]) & !is.infinite(data[, c(\"citations\")]),]\n",
    "data$citations <- as.numeric(gsub(\"\\\\.\", \"\", data$citations))"
   ]
  },
  {
   "cell_type": "code",
   "execution_count": 3,
   "id": "5b823646-7a51-429a-9b28-b3ead3da740e",
   "metadata": {},
   "outputs": [],
   "source": [
    "\n",
    "# data <- na.omit(data)\n",
    "\n",
    "data$PCNT_RANK_original_1960_2019_disruption <- data$PCNT_RANK_original_disruption*10\n",
    "data$PCNT_RANK_original_1960_2019_200_5_q_1_ep_1_bs_65536_embedding_distance <- data$PCNT_RANK_original_n2v_None_200_5_q_1_embedding_distance*10\n"
   ]
  },
  {
   "cell_type": "code",
   "execution_count": 4,
   "id": "fb7585f2-d7df-4a0e-b294-b2071e7f1920",
   "metadata": {},
   "outputs": [],
   "source": [
    "data$PCNT_RANK_original_1960_2019_100_5_q_1_ep_1_bs_65536_embedding_distance <- data$PCNT_RANK_original_100_5_q_1_ep_1_bs_1024_embedding_distance*10"
   ]
  },
  {
   "cell_type": "code",
   "execution_count": 5,
   "id": "b96ec790-d40c-46ca-ba5e-e5223f0054da",
   "metadata": {},
   "outputs": [],
   "source": [
    "data$PCNT_RANK_original_1960_2019_300_5_q_1_ep_1_bs_65536_embedding_distance <- data$PCNT_RANK_original_300_5_q_1_ep_1_bs_1024_embedding_distance*10"
   ]
  },
  {
   "cell_type": "code",
   "execution_count": 6,
   "id": "645108cc-203b-4b59-be8b-488d019396fe",
   "metadata": {},
   "outputs": [],
   "source": [
    "data$PCNT_RANK_original_1960_2019_200_3_q_1_ep_1_bs_65536_embedding_distance <- data$PCNT_RANK_original_200_3_q_1_ep_1_bs_1024_embedding_distance*10"
   ]
  },
  {
   "cell_type": "code",
   "execution_count": 7,
   "id": "3809cbaa-a717-4acb-82f2-c24b2d40abad",
   "metadata": {},
   "outputs": [],
   "source": [
    "data$PCNT_RANK_original_1960_2019_200_1_q_1_ep_1_bs_65536_embedding_distance <- data$PCNT_RANK_original_200_1_q_1_ep_1_bs_1024_embedding_distance*10"
   ]
  },
  {
   "cell_type": "code",
   "execution_count": 8,
   "id": "4e991016-60b0-4dd5-a59f-b5174fc6e1c3",
   "metadata": {},
   "outputs": [],
   "source": [
    "data$PCNT_RANK_original_1960_2019_200_5_q_1_ep_1_bs_65536_embedding_distance <- data$PCNT_RANK_original_200_5_q_1_ep_1_bs_1024_embedding_distance*10"
   ]
  },
  {
   "cell_type": "code",
   "execution_count": 9,
   "id": "253492e6-8ec1-4ce7-8840-db892e1a234f",
   "metadata": {},
   "outputs": [],
   "source": [
    "data$PCNT_RANK_original_1960_2019_300_1_q_1_ep_1_bs_65536_embedding_distance <- data$PCNT_RANK_original_300_1_q_1_ep_1_bs_1024_embedding_distance*10"
   ]
  },
  {
   "cell_type": "code",
   "execution_count": 10,
   "id": "ae9f70d1-2292-4694-a4a9-38d3ca5fae41",
   "metadata": {},
   "outputs": [],
   "source": [
    "data$PCNT_RANK_original_1960_2019_300_3_q_1_ep_1_bs_65536_embedding_distance <- data$PCNT_RANK_original_300_3_q_1_ep_1_bs_1024_embedding_distance*10"
   ]
  },
  {
   "cell_type": "code",
   "execution_count": 14,
   "id": "33dad33b-fdea-49d9-9cae-5d407f258c62",
   "metadata": {},
   "outputs": [
    {
     "data": {
      "text/plain": [
       "$maxit\n",
       "[1] 100\n",
       "\n",
       "$maxhs\n",
       "[1] 0\n",
       "\n",
       "$maxstep\n",
       "[1] 5\n",
       "\n",
       "$lconv\n",
       "[1] 1e-05\n",
       "\n",
       "$gconv\n",
       "[1] 1e-05\n",
       "\n",
       "$xconv\n",
       "[1] 1e-05\n",
       "\n",
       "$collapse\n",
       "[1] TRUE\n",
       "\n",
       "$fit\n",
       "[1] \"NR\"\n",
       "\n",
       "$call\n",
       "logistf.control(maxit = 100)\n",
       "\n",
       "attr(,\"class\")\n",
       "[1] \"logistf.control\""
      ]
     },
     "metadata": {},
     "output_type": "display_data"
    }
   ],
   "source": [
    "logistf.control(maxit = 100)"
   ]
  },
  {
   "cell_type": "markdown",
   "id": "fa928326-2645-45dc-ac78-e6d412cbe59e",
   "metadata": {},
   "source": [
    "### Nobel ~ w_5_d_100 EDM + D + log(citations)"
   ]
  },
  {
   "cell_type": "code",
   "execution_count": 14,
   "id": "33902a84-02bd-4c3d-915f-1ada2b7d02eb",
   "metadata": {},
   "outputs": [],
   "source": [
    "fit <- logistf(milestone ~  PCNT_RANK_original_1960_2019_disruption+PCNT_RANK_original_1960_2019_100_5_q_1_ep_1_bs_65536_embedding_distance+log(citations) ,data = data)"
   ]
  },
  {
   "cell_type": "code",
   "execution_count": 15,
   "id": "d294a78b-6710-496b-a736-f03f5a0e9b21",
   "metadata": {},
   "outputs": [
    {
     "name": "stdout",
     "output_type": "stream",
     "text": [
      "logistf(formula = milestone ~ PCNT_RANK_original_1960_2019_disruption + \n",
      "    PCNT_RANK_original_1960_2019_100_5_q_1_ep_1_bs_65536_embedding_distance + \n",
      "    log(citations), data = data)\n",
      "\n",
      "Model fitted by Penalized ML\n",
      "Coefficients:\n",
      "                                                                               coef\n",
      "(Intercept)                                                             -15.5111812\n",
      "PCNT_RANK_original_1960_2019_disruption                                   0.0261621\n",
      "PCNT_RANK_original_1960_2019_100_5_q_1_ep_1_bs_65536_embedding_distance   0.1965434\n",
      "log(citations)                                                            1.8051443\n",
      "                                                                          se(coef)\n",
      "(Intercept)                                                             0.33658523\n",
      "PCNT_RANK_original_1960_2019_disruption                                 0.01770664\n",
      "PCNT_RANK_original_1960_2019_100_5_q_1_ep_1_bs_65536_embedding_distance 0.04266686\n",
      "log(citations)                                                          0.05721683\n",
      "                                                                           lower 0.95\n",
      "(Intercept)                                                             -16.197942027\n",
      "PCNT_RANK_original_1960_2019_disruption                                  -0.008386389\n",
      "PCNT_RANK_original_1960_2019_100_5_q_1_ep_1_bs_65536_embedding_distance   0.114984792\n",
      "log(citations)                                                            1.694415872\n",
      "                                                                          upper 0.95\n",
      "(Intercept)                                                             -14.87313178\n",
      "PCNT_RANK_original_1960_2019_disruption                                   0.06120741\n",
      "PCNT_RANK_original_1960_2019_100_5_q_1_ep_1_bs_65536_embedding_distance   0.28316971\n",
      "log(citations)                                                            1.91946515\n",
      "                                                                            Chisq\n",
      "(Intercept)                                                                   Inf\n",
      "PCNT_RANK_original_1960_2019_disruption                                  2.196543\n",
      "PCNT_RANK_original_1960_2019_100_5_q_1_ep_1_bs_65536_embedding_distance 24.219263\n",
      "log(citations)                                                                Inf\n",
      "                                                                                   p\n",
      "(Intercept)                                                             0.000000e+00\n",
      "PCNT_RANK_original_1960_2019_disruption                                 1.383207e-01\n",
      "PCNT_RANK_original_1960_2019_100_5_q_1_ep_1_bs_65536_embedding_distance 8.596812e-07\n",
      "log(citations)                                                          0.000000e+00\n",
      "                                                                        method\n",
      "(Intercept)                                                                  2\n",
      "PCNT_RANK_original_1960_2019_disruption                                      2\n",
      "PCNT_RANK_original_1960_2019_100_5_q_1_ep_1_bs_65536_embedding_distance      2\n",
      "log(citations)                                                               2\n",
      "\n",
      "Method: 1-Wald, 2-Profile penalized log-likelihood, 3-None\n",
      "\n",
      "Likelihood ratio test=1910.734 on 3 df, p=0, n=327021\n",
      "Wald test = 5503.461 on 3 df, p = 0"
     ]
    }
   ],
   "source": [
    "summary(fit) "
   ]
  },
  {
   "cell_type": "markdown",
   "id": "65672d3a-a48c-4547-bc9e-60d13c969fc5",
   "metadata": {},
   "source": [
    "### Nobel ~ w_5_d_200 EDM + D + log(citations)"
   ]
  },
  {
   "cell_type": "code",
   "execution_count": 16,
   "id": "8d7c33e6-b7b4-41b6-a538-0940c8972d3c",
   "metadata": {},
   "outputs": [],
   "source": [
    "fit2 <- logistf(milestone ~  PCNT_RANK_original_1960_2019_disruption+PCNT_RANK_original_1960_2019_200_5_q_1_ep_1_bs_65536_embedding_distance+log(citations) ,data = data)"
   ]
  },
  {
   "cell_type": "code",
   "execution_count": 17,
   "id": "ab54542a-4706-4178-920c-c8fe36da056a",
   "metadata": {},
   "outputs": [
    {
     "name": "stdout",
     "output_type": "stream",
     "text": [
      "logistf(formula = milestone ~ PCNT_RANK_original_1960_2019_disruption + \n",
      "    PCNT_RANK_original_1960_2019_200_5_q_1_ep_1_bs_65536_embedding_distance + \n",
      "    log(citations), data = data)\n",
      "\n",
      "Model fitted by Penalized ML\n",
      "Coefficients:\n",
      "                                                                                coef\n",
      "(Intercept)                                                             -15.57280892\n",
      "PCNT_RANK_original_1960_2019_disruption                                   0.02479849\n",
      "PCNT_RANK_original_1960_2019_200_5_q_1_ep_1_bs_65536_embedding_distance   0.22644308\n",
      "log(citations)                                                            1.76367424\n",
      "                                                                          se(coef)\n",
      "(Intercept)                                                             0.34626488\n",
      "PCNT_RANK_original_1960_2019_disruption                                 0.01760992\n",
      "PCNT_RANK_original_1960_2019_200_5_q_1_ep_1_bs_65536_embedding_distance 0.04648672\n",
      "log(citations)                                                          0.05921371\n",
      "                                                                           lower 0.95\n",
      "(Intercept)                                                             -16.282861866\n",
      "PCNT_RANK_original_1960_2019_disruption                                  -0.009555769\n",
      "PCNT_RANK_original_1960_2019_200_5_q_1_ep_1_bs_65536_embedding_distance   0.137826206\n",
      "log(citations)                                                            1.649347088\n",
      "                                                                          upper 0.95\n",
      "(Intercept)                                                             -14.91902227\n",
      "PCNT_RANK_original_1960_2019_disruption                                   0.05965683\n",
      "PCNT_RANK_original_1960_2019_200_5_q_1_ep_1_bs_65536_embedding_distance   0.32118076\n",
      "log(citations)                                                            1.88227642\n",
      "                                                                            Chisq\n",
      "(Intercept)                                                                   Inf\n",
      "PCNT_RANK_original_1960_2019_disruption                                  1.994913\n",
      "PCNT_RANK_original_1960_2019_200_5_q_1_ep_1_bs_65536_embedding_distance 27.737168\n",
      "log(citations)                                                                Inf\n",
      "                                                                                   p\n",
      "(Intercept)                                                             0.000000e+00\n",
      "PCNT_RANK_original_1960_2019_disruption                                 1.578281e-01\n",
      "PCNT_RANK_original_1960_2019_200_5_q_1_ep_1_bs_65536_embedding_distance 1.389669e-07\n",
      "log(citations)                                                          0.000000e+00\n",
      "                                                                        method\n",
      "(Intercept)                                                                  2\n",
      "PCNT_RANK_original_1960_2019_disruption                                      2\n",
      "PCNT_RANK_original_1960_2019_200_5_q_1_ep_1_bs_65536_embedding_distance      2\n",
      "log(citations)                                                               2\n",
      "\n",
      "Method: 1-Wald, 2-Profile penalized log-likelihood, 3-None\n",
      "\n",
      "Likelihood ratio test=1914.153 on 3 df, p=0, n=327021\n",
      "Wald test = 5470.707 on 3 df, p = 0"
     ]
    }
   ],
   "source": [
    "summary(fit2) "
   ]
  },
  {
   "cell_type": "markdown",
   "id": "77de3758-0bb7-4107-8741-a4d4741b209c",
   "metadata": {},
   "source": [
    "### Nobel ~ w_5_d_300 EDM + D + log(citations)"
   ]
  },
  {
   "cell_type": "code",
   "execution_count": 18,
   "id": "3f1dc151-4a19-4e10-ab69-14b30e932325",
   "metadata": {},
   "outputs": [],
   "source": [
    "fit3 <- logistf(milestone ~  PCNT_RANK_original_1960_2019_disruption+PCNT_RANK_original_1960_2019_300_5_q_1_ep_1_bs_65536_embedding_distance+log(citations) ,data = data)"
   ]
  },
  {
   "cell_type": "code",
   "execution_count": 19,
   "id": "e86b68fc-e5b8-4047-bc7b-e04b52bce822",
   "metadata": {},
   "outputs": [
    {
     "name": "stdout",
     "output_type": "stream",
     "text": [
      "logistf(formula = milestone ~ PCNT_RANK_original_1960_2019_disruption + \n",
      "    PCNT_RANK_original_1960_2019_300_5_q_1_ep_1_bs_65536_embedding_distance + \n",
      "    log(citations), data = data)\n",
      "\n",
      "Model fitted by Penalized ML\n",
      "Coefficients:\n",
      "                                                                                coef\n",
      "(Intercept)                                                             -15.50147306\n",
      "PCNT_RANK_original_1960_2019_disruption                                   0.02736814\n",
      "PCNT_RANK_original_1960_2019_300_5_q_1_ep_1_bs_65536_embedding_distance   0.21446684\n",
      "log(citations)                                                            1.76427530\n",
      "                                                                          se(coef)\n",
      "(Intercept)                                                             0.34100518\n",
      "PCNT_RANK_original_1960_2019_disruption                                 0.01755309\n",
      "PCNT_RANK_original_1960_2019_300_5_q_1_ep_1_bs_65536_embedding_distance 0.04633706\n",
      "log(citations)                                                          0.06017943\n",
      "                                                                           lower 0.95\n",
      "(Intercept)                                                             -16.200654353\n",
      "PCNT_RANK_original_1960_2019_disruption                                  -0.006868997\n",
      "PCNT_RANK_original_1960_2019_300_5_q_1_ep_1_bs_65536_embedding_distance   0.126101409\n",
      "log(citations)                                                            1.648156319\n",
      "                                                                          upper 0.95\n",
      "(Intercept)                                                             -14.85758670\n",
      "PCNT_RANK_original_1960_2019_disruption                                   0.06211768\n",
      "PCNT_RANK_original_1960_2019_300_5_q_1_ep_1_bs_65536_embedding_distance   0.30886518\n",
      "log(citations)                                                            1.88488899\n",
      "                                                                            Chisq\n",
      "(Intercept)                                                                   Inf\n",
      "PCNT_RANK_original_1960_2019_disruption                                  2.448644\n",
      "PCNT_RANK_original_1960_2019_300_5_q_1_ep_1_bs_65536_embedding_distance 24.755216\n",
      "log(citations)                                                                Inf\n",
      "                                                                                   p\n",
      "(Intercept)                                                             0.000000e+00\n",
      "PCNT_RANK_original_1960_2019_disruption                                 1.176264e-01\n",
      "PCNT_RANK_original_1960_2019_300_5_q_1_ep_1_bs_65536_embedding_distance 6.509242e-07\n",
      "log(citations)                                                          0.000000e+00\n",
      "                                                                        method\n",
      "(Intercept)                                                                  2\n",
      "PCNT_RANK_original_1960_2019_disruption                                      2\n",
      "PCNT_RANK_original_1960_2019_300_5_q_1_ep_1_bs_65536_embedding_distance      2\n",
      "log(citations)                                                               2\n",
      "\n",
      "Method: 1-Wald, 2-Profile penalized log-likelihood, 3-None\n",
      "\n",
      "Likelihood ratio test=1911.144 on 3 df, p=0, n=327021\n",
      "Wald test = 5481.919 on 3 df, p = 0"
     ]
    }
   ],
   "source": [
    "summary(fit3) "
   ]
  },
  {
   "cell_type": "markdown",
   "id": "a762a8e1-d0f4-4949-85ea-bf981919cbee",
   "metadata": {},
   "source": [
    "### Nobel ~ w_1_d_200 EDM + D + log(citations)"
   ]
  },
  {
   "cell_type": "code",
   "execution_count": 24,
   "id": "f95c5b1e-7117-416e-9048-5d73cd06e6d8",
   "metadata": {},
   "outputs": [],
   "source": [
    "fit2_1 <- logistf(milestone ~  PCNT_RANK_original_1960_2019_disruption+PCNT_RANK_original_1960_2019_200_1_q_1_ep_1_bs_65536_embedding_distance+log(citations) ,data = data)"
   ]
  },
  {
   "cell_type": "code",
   "execution_count": 26,
   "id": "dd2ae73f-0bdd-4639-803b-c4ef8e997f3d",
   "metadata": {},
   "outputs": [
    {
     "name": "stdout",
     "output_type": "stream",
     "text": [
      "logistf(formula = milestone ~ PCNT_RANK_original_1960_2019_disruption + \n",
      "    PCNT_RANK_original_1960_2019_200_1_q_1_ep_1_bs_65536_embedding_distance + \n",
      "    log(citations), data = data)\n",
      "\n",
      "Model fitted by Penalized ML\n",
      "Coefficients:\n",
      "                                                                                coef\n",
      "(Intercept)                                                             -15.50484137\n",
      "PCNT_RANK_original_1960_2019_disruption                                   0.01699225\n",
      "PCNT_RANK_original_1960_2019_200_1_q_1_ep_1_bs_65536_embedding_distance   0.21425900\n",
      "log(citations)                                                            1.78564876\n",
      "                                                                          se(coef)\n",
      "(Intercept)                                                             0.35102024\n",
      "PCNT_RANK_original_1960_2019_disruption                                 0.01847263\n",
      "PCNT_RANK_original_1960_2019_200_1_q_1_ep_1_bs_65536_embedding_distance 0.05039397\n",
      "log(citations)                                                          0.05939195\n",
      "                                                                          lower 0.95\n",
      "(Intercept)                                                             -16.22818582\n",
      "PCNT_RANK_original_1960_2019_disruption                                  -0.01899626\n",
      "PCNT_RANK_original_1960_2019_200_1_q_1_ep_1_bs_65536_embedding_distance   0.11821311\n",
      "log(citations)                                                            1.67120782\n",
      "                                                                         upper 0.95\n",
      "(Intercept)                                                             -14.8447717\n",
      "PCNT_RANK_original_1960_2019_disruption                                   0.0536103\n",
      "PCNT_RANK_original_1960_2019_200_1_q_1_ep_1_bs_65536_embedding_distance   0.3170386\n",
      "log(citations)                                                            1.9048342\n",
      "                                                                             Chisq\n",
      "(Intercept)                                                                    Inf\n",
      "PCNT_RANK_original_1960_2019_disruption                                  0.8494637\n",
      "PCNT_RANK_original_1960_2019_200_1_q_1_ep_1_bs_65536_embedding_distance 20.7051413\n",
      "log(citations)                                                                 Inf\n",
      "                                                                                   p\n",
      "(Intercept)                                                             0.000000e+00\n",
      "PCNT_RANK_original_1960_2019_disruption                                 3.567041e-01\n",
      "PCNT_RANK_original_1960_2019_200_1_q_1_ep_1_bs_65536_embedding_distance 5.357197e-06\n",
      "log(citations)                                                          0.000000e+00\n",
      "                                                                        method\n",
      "(Intercept)                                                                  2\n",
      "PCNT_RANK_original_1960_2019_disruption                                      2\n",
      "PCNT_RANK_original_1960_2019_200_1_q_1_ep_1_bs_65536_embedding_distance      2\n",
      "log(citations)                                                               2\n",
      "\n",
      "Method: 1-Wald, 2-Profile penalized log-likelihood, 3-None\n",
      "\n",
      "Likelihood ratio test=1906.958 on 3 df, p=0, n=327021\n",
      "Wald test = 5471.356 on 3 df, p = 0"
     ]
    }
   ],
   "source": [
    "summary(fit2_1) "
   ]
  },
  {
   "cell_type": "markdown",
   "id": "f8072f24-0aca-4b72-8348-17c1e4e0b189",
   "metadata": {},
   "source": [
    "### Nobel ~ w_3_d_200 EDM + D + log(citations)"
   ]
  },
  {
   "cell_type": "code",
   "execution_count": 25,
   "id": "ec6cc5bb-fa54-4eb0-83f5-05122916b140",
   "metadata": {},
   "outputs": [],
   "source": [
    "fit2_3 <- logistf(milestone ~  PCNT_RANK_original_1960_2019_disruption+PCNT_RANK_original_1960_2019_200_3_q_1_ep_1_bs_65536_embedding_distance+log(citations) ,data = data)"
   ]
  },
  {
   "cell_type": "code",
   "execution_count": 27,
   "id": "3b7a29e2-eb1a-45dc-9d50-d2de2a18d645",
   "metadata": {},
   "outputs": [
    {
     "name": "stdout",
     "output_type": "stream",
     "text": [
      "logistf(formula = milestone ~ PCNT_RANK_original_1960_2019_disruption + \n",
      "    PCNT_RANK_original_1960_2019_200_3_q_1_ep_1_bs_65536_embedding_distance + \n",
      "    log(citations), data = data)\n",
      "\n",
      "Model fitted by Penalized ML\n",
      "Coefficients:\n",
      "                                                                                coef\n",
      "(Intercept)                                                             -15.60461981\n",
      "PCNT_RANK_original_1960_2019_disruption                                   0.02971406\n",
      "PCNT_RANK_original_1960_2019_200_3_q_1_ep_1_bs_65536_embedding_distance   0.21190999\n",
      "log(citations)                                                            1.77329389\n",
      "                                                                          se(coef)\n",
      "(Intercept)                                                             0.36734066\n",
      "PCNT_RANK_original_1960_2019_disruption                                 0.01753057\n",
      "PCNT_RANK_original_1960_2019_200_3_q_1_ep_1_bs_65536_embedding_distance 0.05057649\n",
      "log(citations)                                                          0.06182165\n",
      "                                                                           lower 0.95\n",
      "(Intercept)                                                             -16.365581854\n",
      "PCNT_RANK_original_1960_2019_disruption                                  -0.004467326\n",
      "PCNT_RANK_original_1960_2019_200_3_q_1_ep_1_bs_65536_embedding_distance   0.116211727\n",
      "log(citations)                                                            1.653645045\n",
      "                                                                          upper 0.95\n",
      "(Intercept)                                                             -14.91668418\n",
      "PCNT_RANK_original_1960_2019_disruption                                   0.06443092\n",
      "PCNT_RANK_original_1960_2019_200_3_q_1_ep_1_bs_65536_embedding_distance   0.31591108\n",
      "log(citations)                                                            1.89686398\n",
      "                                                                            Chisq\n",
      "(Intercept)                                                                   Inf\n",
      "PCNT_RANK_original_1960_2019_disruption                                  2.898115\n",
      "PCNT_RANK_original_1960_2019_200_3_q_1_ep_1_bs_65536_embedding_distance 20.806850\n",
      "log(citations)                                                                Inf\n",
      "                                                                                   p\n",
      "(Intercept)                                                             0.000000e+00\n",
      "PCNT_RANK_original_1960_2019_disruption                                 8.868322e-02\n",
      "PCNT_RANK_original_1960_2019_200_3_q_1_ep_1_bs_65536_embedding_distance 5.080093e-06\n",
      "log(citations)                                                          0.000000e+00\n",
      "                                                                        method\n",
      "(Intercept)                                                                  2\n",
      "PCNT_RANK_original_1960_2019_disruption                                      2\n",
      "PCNT_RANK_original_1960_2019_200_3_q_1_ep_1_bs_65536_embedding_distance      2\n",
      "log(citations)                                                               2\n",
      "\n",
      "Method: 1-Wald, 2-Profile penalized log-likelihood, 3-None\n",
      "\n",
      "Likelihood ratio test=1907.149 on 3 df, p=0, n=327021\n",
      "Wald test = 5443.268 on 3 df, p = 0"
     ]
    }
   ],
   "source": [
    "summary(fit2_3) "
   ]
  },
  {
   "cell_type": "code",
   "execution_count": 50,
   "id": "2ec5a42f-187e-4dc1-872d-20feab20a497",
   "metadata": {},
   "outputs": [],
   "source": [
    "fit3_3 <- logistf(milestone ~  PCNT_RANK_original_1960_2019_disruption+PCNT_RANK_original_1960_2019_300_3_q_1_ep_1_bs_65536_embedding_distance+log(citations) ,data = data)"
   ]
  },
  {
   "cell_type": "code",
   "execution_count": 51,
   "id": "76d2a46e-7279-4fa7-8b0a-386057de537a",
   "metadata": {},
   "outputs": [
    {
     "name": "stdout",
     "output_type": "stream",
     "text": [
      "logistf(formula = milestone ~ PCNT_RANK_original_1960_2019_disruption + \n",
      "    PCNT_RANK_original_1960_2019_300_3_q_1_ep_1_bs_65536_embedding_distance + \n",
      "    log(citations), data = data)\n",
      "\n",
      "Model fitted by Penalized ML\n",
      "Coefficients:\n",
      "                                                                                coef\n",
      "(Intercept)                                                             -15.55648425\n",
      "PCNT_RANK_original_1960_2019_disruption                                   0.02536241\n",
      "PCNT_RANK_original_1960_2019_300_3_q_1_ep_1_bs_65536_embedding_distance   0.22147960\n",
      "log(citations)                                                            1.75496017\n",
      "                                                                          se(coef)\n",
      "(Intercept)                                                             0.36426272\n",
      "PCNT_RANK_original_1960_2019_disruption                                 0.01724574\n",
      "PCNT_RANK_original_1960_2019_300_3_q_1_ep_1_bs_65536_embedding_distance 0.05022027\n",
      "log(citations)                                                          0.06098509\n",
      "                                                                           lower 0.95\n",
      "(Intercept)                                                             -16.311544336\n",
      "PCNT_RANK_original_1960_2019_disruption                                  -0.008276173\n",
      "PCNT_RANK_original_1960_2019_300_3_q_1_ep_1_bs_65536_embedding_distance   0.126479138\n",
      "log(citations)                                                            1.636941906\n",
      "                                                                          upper 0.95\n",
      "(Intercept)                                                             -14.87474995\n",
      "PCNT_RANK_original_1960_2019_disruption                                   0.05949688\n",
      "PCNT_RANK_original_1960_2019_300_3_q_1_ep_1_bs_65536_embedding_distance   0.32475417\n",
      "log(citations)                                                            1.87684853\n",
      "                                                                            Chisq\n",
      "(Intercept)                                                                   Inf\n",
      "PCNT_RANK_original_1960_2019_disruption                                  2.177278\n",
      "PCNT_RANK_original_1960_2019_300_3_q_1_ep_1_bs_65536_embedding_distance 23.283319\n",
      "log(citations)                                                                Inf\n",
      "                                                                                   p\n",
      "(Intercept)                                                             0.000000e+00\n",
      "PCNT_RANK_original_1960_2019_disruption                                 1.400620e-01\n",
      "PCNT_RANK_original_1960_2019_300_3_q_1_ep_1_bs_65536_embedding_distance 1.398073e-06\n",
      "log(citations)                                                          0.000000e+00\n",
      "                                                                        method\n",
      "(Intercept)                                                                  2\n",
      "PCNT_RANK_original_1960_2019_disruption                                      2\n",
      "PCNT_RANK_original_1960_2019_300_3_q_1_ep_1_bs_65536_embedding_distance      2\n",
      "log(citations)                                                               2\n",
      "\n",
      "Method: 1-Wald, 2-Profile penalized log-likelihood, 3-None\n",
      "\n",
      "Likelihood ratio test=1931.75 on 3 df, p=0, n=336702\n",
      "Wald test = 5588.647 on 3 df, p = 0"
     ]
    }
   ],
   "source": [
    "summary(fit3_3) "
   ]
  },
  {
   "cell_type": "markdown",
   "id": "15ef8719-b02a-4146-b64d-aeaa27953d67",
   "metadata": {},
   "source": [
    "### Nobel ~ w_1_d_300 EDM + D + log(citations)"
   ]
  },
  {
   "cell_type": "code",
   "execution_count": 52,
   "id": "667fc870-b62b-4cde-bf26-92c605512a70",
   "metadata": {},
   "outputs": [],
   "source": [
    "fit3_1 <- logistf(milestone ~  PCNT_RANK_original_1960_2019_disruption+PCNT_RANK_original_1960_2019_300_1_q_1_ep_1_bs_65536_embedding_distance+log(citations) ,data = data)"
   ]
  },
  {
   "cell_type": "code",
   "execution_count": 53,
   "id": "72e20d3d-cf3c-417a-b1e5-896d91c21756",
   "metadata": {},
   "outputs": [
    {
     "name": "stdout",
     "output_type": "stream",
     "text": [
      "logistf(formula = milestone ~ PCNT_RANK_original_1960_2019_disruption + \n",
      "    PCNT_RANK_original_1960_2019_300_1_q_1_ep_1_bs_65536_embedding_distance + \n",
      "    log(citations), data = data)\n",
      "\n",
      "Model fitted by Penalized ML\n",
      "Coefficients:\n",
      "                                                                                coef\n",
      "(Intercept)                                                             -15.19136515\n",
      "PCNT_RANK_original_1960_2019_disruption                                   0.02309027\n",
      "PCNT_RANK_original_1960_2019_300_1_q_1_ep_1_bs_65536_embedding_distance   0.15342764\n",
      "log(citations)                                                            1.81741252\n",
      "                                                                          se(coef)\n",
      "(Intercept)                                                             0.32083157\n",
      "PCNT_RANK_original_1960_2019_disruption                                 0.01827924\n",
      "PCNT_RANK_original_1960_2019_300_1_q_1_ep_1_bs_65536_embedding_distance 0.04620282\n",
      "log(citations)                                                          0.05915285\n",
      "                                                                          lower 0.95\n",
      "(Intercept)                                                             -15.84842633\n",
      "PCNT_RANK_original_1960_2019_disruption                                  -0.01251537\n",
      "PCNT_RANK_original_1960_2019_300_1_q_1_ep_1_bs_65536_embedding_distance   0.06501823\n",
      "log(citations)                                                            1.70342396\n",
      "                                                                          upper 0.95\n",
      "(Intercept)                                                             -14.58513375\n",
      "PCNT_RANK_original_1960_2019_disruption                                   0.05932083\n",
      "PCNT_RANK_original_1960_2019_300_1_q_1_ep_1_bs_65536_embedding_distance   0.24718369\n",
      "log(citations)                                                            1.93607643\n",
      "                                                                           Chisq\n",
      "(Intercept)                                                                  Inf\n",
      "PCNT_RANK_original_1960_2019_disruption                                  1.60691\n",
      "PCNT_RANK_original_1960_2019_300_1_q_1_ep_1_bs_65536_embedding_distance 12.04408\n",
      "log(citations)                                                               Inf\n",
      "                                                                                   p\n",
      "(Intercept)                                                             0.0000000000\n",
      "PCNT_RANK_original_1960_2019_disruption                                 0.2049267352\n",
      "PCNT_RANK_original_1960_2019_300_1_q_1_ep_1_bs_65536_embedding_distance 0.0005195699\n",
      "log(citations)                                                          0.0000000000\n",
      "                                                                        method\n",
      "(Intercept)                                                                  2\n",
      "PCNT_RANK_original_1960_2019_disruption                                      2\n",
      "PCNT_RANK_original_1960_2019_300_1_q_1_ep_1_bs_65536_embedding_distance      2\n",
      "log(citations)                                                               2\n",
      "\n",
      "Method: 1-Wald, 2-Profile penalized log-likelihood, 3-None\n",
      "\n",
      "Likelihood ratio test=1920.428 on 3 df, p=0, n=336702\n",
      "Wald test = 5717.76 on 3 df, p = 0"
     ]
    }
   ],
   "source": [
    "summary(fit3_1) "
   ]
  },
  {
   "cell_type": "markdown",
   "id": "4e441fda-e02b-4c04-8afb-fd9de45d89ef",
   "metadata": {},
   "source": [
    "### Nobel ~ w_3_d_300 EDM + D + log(citations)"
   ]
  },
  {
   "cell_type": "code",
   "execution_count": 15,
   "id": "c8de5f74-dffe-4f4f-812c-3772df7cda63",
   "metadata": {},
   "outputs": [],
   "source": [
    "fit3_3 <- logistf(milestone ~  PCNT_RANK_original_1960_2019_disruption+PCNT_RANK_original_1960_2019_300_3_q_1_ep_1_bs_65536_embedding_distance+log(citations) ,data = data)"
   ]
  },
  {
   "cell_type": "code",
   "execution_count": 16,
   "id": "0f55f5bb-da25-44c4-a098-2ee1f7336b37",
   "metadata": {},
   "outputs": [
    {
     "name": "stdout",
     "output_type": "stream",
     "text": [
      "logistf(formula = milestone ~ PCNT_RANK_original_1960_2019_disruption + \n",
      "    PCNT_RANK_original_1960_2019_300_3_q_1_ep_1_bs_65536_embedding_distance + \n",
      "    log(citations), data = data)\n",
      "\n",
      "Model fitted by Penalized ML\n",
      "Coefficients:\n",
      "                                                                                coef\n",
      "(Intercept)                                                             -15.80422767\n",
      "PCNT_RANK_original_1960_2019_disruption                                   0.02527595\n",
      "PCNT_RANK_original_1960_2019_300_3_q_1_ep_1_bs_65536_embedding_distance   0.25624905\n",
      "log(citations)                                                            1.74130503\n",
      "                                                                          se(coef)\n",
      "(Intercept)                                                             0.39003397\n",
      "PCNT_RANK_original_1960_2019_disruption                                 0.01746777\n",
      "PCNT_RANK_original_1960_2019_300_3_q_1_ep_1_bs_65536_embedding_distance 0.05358304\n",
      "log(citations)                                                          0.06168978\n",
      "                                                                           lower 0.95\n",
      "(Intercept)                                                             -16.616470079\n",
      "PCNT_RANK_original_1960_2019_disruption                                  -0.008783289\n",
      "PCNT_RANK_original_1960_2019_300_3_q_1_ep_1_bs_65536_embedding_distance   0.155136355\n",
      "log(citations)                                                            1.621952416\n",
      "                                                                          upper 0.95\n",
      "(Intercept)                                                             -15.07688739\n",
      "PCNT_RANK_original_1960_2019_disruption                                   0.05986828\n",
      "PCNT_RANK_original_1960_2019_300_3_q_1_ep_1_bs_65536_embedding_distance   0.36681047\n",
      "log(citations)                                                            1.86466308\n",
      "                                                                            Chisq\n",
      "(Intercept)                                                                   Inf\n",
      "PCNT_RANK_original_1960_2019_disruption                                  2.108588\n",
      "PCNT_RANK_original_1960_2019_300_3_q_1_ep_1_bs_65536_embedding_distance 28.280344\n",
      "log(citations)                                                                Inf\n",
      "                                                                                   p\n",
      "(Intercept)                                                             0.000000e+00\n",
      "PCNT_RANK_original_1960_2019_disruption                                 1.464744e-01\n",
      "PCNT_RANK_original_1960_2019_300_3_q_1_ep_1_bs_65536_embedding_distance 1.049564e-07\n",
      "log(citations)                                                          0.000000e+00\n",
      "                                                                        method\n",
      "(Intercept)                                                                  2\n",
      "PCNT_RANK_original_1960_2019_disruption                                      2\n",
      "PCNT_RANK_original_1960_2019_300_3_q_1_ep_1_bs_65536_embedding_distance      2\n",
      "log(citations)                                                               2\n",
      "\n",
      "Method: 1-Wald, 2-Profile penalized log-likelihood, 3-None\n",
      "\n",
      "Likelihood ratio test=1914.617 on 3 df, p=0, n=327021\n",
      "Wald test = 5372.29 on 3 df, p = 0"
     ]
    }
   ],
   "source": [
    "summary(fit3_3) "
   ]
  },
  {
   "cell_type": "code",
   "execution_count": null,
   "id": "63879686-bf08-4fd7-b0c9-ef425db389b4",
   "metadata": {},
   "outputs": [],
   "source": []
  }
 ],
 "metadata": {
  "kernelspec": {
   "display_name": "R",
   "language": "R",
   "name": "ir"
  },
  "language_info": {
   "codemirror_mode": "r",
   "file_extension": ".r",
   "mimetype": "text/x-r-source",
   "name": "R",
   "pygments_lexer": "r",
   "version": "3.6.3"
  }
 },
 "nbformat": 4,
 "nbformat_minor": 5
}
