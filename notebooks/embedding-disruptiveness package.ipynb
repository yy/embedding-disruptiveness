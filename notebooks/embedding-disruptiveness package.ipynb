{
 "cells": [
  {
   "cell_type": "code",
   "execution_count": 2,
   "id": "6841d172-7862-4287-98a3-616930ce6599",
   "metadata": {},
   "outputs": [],
   "source": [
    "import embedding_disruptiveness\n",
    "import numpy as np\n",
    "import torch"
   ]
  },
  {
   "cell_type": "markdown",
   "id": "1b28d090-1a28-4768-aa94-d32aeb43945f",
   "metadata": {},
   "source": [
    "## install package"
   ]
  },
  {
   "cell_type": "markdown",
   "id": "f2d66aaf-38af-4a73-8b1e-5e165981c1a6",
   "metadata": {},
   "source": [
    "You can install package by `pip install embedding-disruptiveness`"
   ]
  },
  {
   "cell_type": "code",
   "execution_count": 1,
   "id": "54ee2a3b-eafb-47b2-8f33-42e5db2ef849",
   "metadata": {},
   "outputs": [],
   "source": [
    "npz_file_location = '/data/sg/munjkim/APS/random/random4/citation_net.npz'"
   ]
  },
  {
   "cell_type": "code",
   "execution_count": 3,
   "id": "75c7d6d1-5a08-4a96-b0d0-404f0fabac21",
   "metadata": {},
   "outputs": [
    {
     "name": "stdout",
     "output_type": "stream",
     "text": [
      "cuda:  5  and  6\n",
      "input in vectors to cuda 0\n",
      "input in vectors to cuda 1\n"
     ]
    }
   ],
   "source": [
    "trainer = embedding_disruptiveness.EmbeddingTrainer(net_input= npz_file_location,\n",
    "                                                   dim = 100,\n",
    "                                                   window_size=5,\n",
    "                                                   device_in = '5',\n",
    "                                                   device_out = '6',\n",
    "                                                   q_value = 1,\n",
    "                                                   epochs =1,\n",
    "                                                    batch_size = 1024,\n",
    "                                                    num_workers=15,\n",
    "                                                   save_dir = '/data/sg/munjkim/APS/random/random4/100_5_q_1_ep_1_bs_1024_embedding/')"
   ]
  },
  {
   "cell_type": "code",
   "execution_count": null,
   "id": "6b8bd42f-5cfd-4753-adc5-7c96709553d4",
   "metadata": {
    "tags": []
   },
   "outputs": [
    {
     "name": "stderr",
     "output_type": "stream",
     "text": [
      " 99%|██████████████████████████████████████████████████████████████████████████████████████████▊ | 2481552/2515711 [4:18:35<03:26, 165.42it/s, loss=0.589]"
     ]
    }
   ],
   "source": [
    "trainer.train()"
   ]
  },
  {
   "cell_type": "code",
   "execution_count": 8,
   "id": "ff51f756-ba92-4eeb-a500-783ac0c04729",
   "metadata": {},
   "outputs": [
    {
     "name": "stdout",
     "output_type": "stream",
     "text": [
      "Saving embeddings...\n",
      "Embeddings saved to /data/sg/munjkim/APS/random/random4/100_5_q_1_ep_1_bs_1024_embedding/\n"
     ]
    }
   ],
   "source": [
    "trainer.save_embeddings()"
   ]
  },
  {
   "cell_type": "code",
   "execution_count": 9,
   "id": "504152f8-72a7-4e8a-9b7b-778364e88b25",
   "metadata": {},
   "outputs": [
    {
     "name": "stdout",
     "output_type": "stream",
     "text": [
      "Calculating embedding disruptiveness...\n"
     ]
    },
    {
     "name": "stderr",
     "output_type": "stream",
     "text": [
      "100%|███████████████████████████████████████████████████████████████████████████████████████████████████████████████████| 100/100 [00:22<00:00,  4.36it/s]\n"
     ]
    }
   ],
   "source": [
    "trainer.cal_embedding_disruptiveness() # this automatically save edm in the given folder"
   ]
  },
  {
   "cell_type": "code",
   "execution_count": null,
   "id": "04725103-1c64-4a4f-bed7-dd821fca8bf2",
   "metadata": {},
   "outputs": [],
   "source": []
  },
  {
   "cell_type": "code",
   "execution_count": null,
   "id": "6ebcdbb6-693a-406a-a6d9-0565c1b63f67",
   "metadata": {},
   "outputs": [],
   "source": []
  },
  {
   "cell_type": "code",
   "execution_count": null,
   "id": "08d1ee20-1fc0-43ac-a719-cd47ef6bb827",
   "metadata": {},
   "outputs": [],
   "source": []
  }
 ],
 "metadata": {
  "kernelspec": {
   "display_name": "edm_test",
   "language": "python",
   "name": "edm_test"
  },
  "language_info": {
   "codemirror_mode": {
    "name": "ipython",
    "version": 3
   },
   "file_extension": ".py",
   "mimetype": "text/x-python",
   "name": "python",
   "nbconvert_exporter": "python",
   "pygments_lexer": "ipython3",
   "version": "3.12.3"
  }
 },
 "nbformat": 4,
 "nbformat_minor": 5
}
