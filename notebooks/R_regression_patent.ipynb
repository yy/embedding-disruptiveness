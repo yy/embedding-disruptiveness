{
 "cells": [
  {
   "cell_type": "code",
   "execution_count": 1,
   "id": "f841fd6f-61b3-4bd6-b0ea-5dfcbde3f3d3",
   "metadata": {},
   "outputs": [],
   "source": [
    "library(logistf)"
   ]
  },
  {
   "cell_type": "code",
   "execution_count": 12,
   "id": "f1a9fbf8-fc47-4da2-8957-e8493dbf8610",
   "metadata": {},
   "outputs": [],
   "source": [
    "data <- read.csv('../data/patent_table_significant_regresions.csv')"
   ]
  },
  {
   "cell_type": "code",
   "execution_count": 13,
   "id": "34ebba28-a793-4ad3-9ab1-96e60bc98eba",
   "metadata": {},
   "outputs": [],
   "source": [
    "data <- data[!is.na(data[, c(\"citations\")]) & !is.nan(data[, c(\"citations\")]) & !is.infinite(data[, c(\"citations\")]),]\n",
    "data$citations <- as.numeric(gsub(\"\\\\.\", \"\", data$citations))"
   ]
  },
  {
   "cell_type": "code",
   "execution_count": 14,
   "id": "9222ff84-3187-4bca-a46e-7cac694e4b6d",
   "metadata": {},
   "outputs": [],
   "source": [
    "data$edm_disruption_percentile <- data$edm_disruption_percentile*10\n",
    "data$disruption_percentile <- data$disruption_percentile*10\n"
   ]
  },
  {
   "cell_type": "code",
   "execution_count": 22,
   "id": "2b08a644-1ffc-4314-90c1-32b330626813",
   "metadata": {},
   "outputs": [
    {
     "data": {
      "text/plain": [
       "$maxit\n",
       "[1] 100\n",
       "\n",
       "$maxhs\n",
       "[1] 0\n",
       "\n",
       "$maxstep\n",
       "[1] 5\n",
       "\n",
       "$lconv\n",
       "[1] 1e-05\n",
       "\n",
       "$gconv\n",
       "[1] 1e-05\n",
       "\n",
       "$xconv\n",
       "[1] 1e-05\n",
       "\n",
       "$collapse\n",
       "[1] TRUE\n",
       "\n",
       "$fit\n",
       "[1] \"NR\"\n",
       "\n",
       "$call\n",
       "logistf.control(maxit = 100)\n",
       "\n",
       "attr(,\"class\")\n",
       "[1] \"logistf.control\""
      ]
     },
     "metadata": {},
     "output_type": "display_data"
    }
   ],
   "source": [
    "logistf.control(maxit = 100)"
   ]
  },
  {
   "cell_type": "code",
   "execution_count": 23,
   "id": "763331cc-c5ce-4ae8-8f15-b9f3327a4d94",
   "metadata": {},
   "outputs": [],
   "source": [
    "fit <- logistf(government_interests ~  edm_disruption_percentile+disruption_percentile+log(citations) ,data = data)"
   ]
  },
  {
   "cell_type": "code",
   "execution_count": 24,
   "id": "042f4afe-6548-471b-9bd8-74f9927bda5f",
   "metadata": {},
   "outputs": [
    {
     "name": "stdout",
     "output_type": "stream",
     "text": [
      "logistf(formula = government_interests ~ edm_disruption_percentile + \n",
      "    disruption_percentile + log(citations), data = data)\n",
      "\n",
      "Model fitted by Penalized ML\n",
      "Coefficients:\n",
      "                                  coef   se(coef)  lower 0.95  upper 0.95\n",
      "(Intercept)               -10.96909152 0.43785128 -11.8550228 -10.1214897\n",
      "edm_disruption_percentile   0.32542139 0.04365276   0.2408534   0.4136306\n",
      "disruption_percentile      -0.24607341 0.03663081  -0.3195104  -0.1745422\n",
      "log(citations)             -0.09739707 0.10897188  -0.3190079   0.1129422\n",
      "                               Chisq            p method\n",
      "(Intercept)                      Inf 0.000000e+00      2\n",
      "edm_disruption_percentile 60.2565161 8.326673e-15      2\n",
      "disruption_percentile     45.7652454 1.333078e-11      2\n",
      "log(citations)             0.8019064 3.705240e-01      2\n",
      "\n",
      "Method: 1-Wald, 2-Profile penalized log-likelihood, 3-None\n",
      "\n",
      "Likelihood ratio test=79.16012 on 3 df, p=0, n=3018390\n",
      "Wald test = 9034.422 on 3 df, p = 0"
     ]
    }
   ],
   "source": [
    "summary(fit) # do not change the feature?"
   ]
  }
 ],
 "metadata": {
  "kernelspec": {
   "display_name": "R",
   "language": "R",
   "name": "ir"
  },
  "language_info": {
   "codemirror_mode": "r",
   "file_extension": ".r",
   "mimetype": "text/x-r-source",
   "name": "R",
   "pygments_lexer": "r",
   "version": "3.6.3"
  }
 },
 "nbformat": 4,
 "nbformat_minor": 5
}
